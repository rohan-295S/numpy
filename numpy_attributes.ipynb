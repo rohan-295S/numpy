{
 "cells": [
  {
   "cell_type": "code",
   "execution_count": 5,
   "id": "eb2f7a97-e8fc-4b1e-b938-4e2178d8a158",
   "metadata": {},
   "outputs": [
    {
     "name": "stdout",
     "output_type": "stream",
     "text": [
      "[[[ 0  1  2  3]\n",
      "  [ 4  5  6  7]\n",
      "  [ 8  9 10 11]]\n",
      "\n",
      " [[12 13 14 15]\n",
      "  [16 17 18 19]\n",
      "  [20 21 22 23]]]\n"
     ]
    }
   ],
   "source": [
    "import numpy as np\n",
    "D_array = np.array([[[0,1,2,3],[4,5,6,7],[8,9,10,11]],[[12,13,14,15],[16,17,18,19],[20,21,22,23]]])\n",
    "print(D_array)\n"
   ]
  },
  {
   "cell_type": "code",
   "execution_count": 6,
   "id": "06320e37-60b6-4ed9-8c04-f3031035e51e",
   "metadata": {},
   "outputs": [
    {
     "name": "stdout",
     "output_type": "stream",
     "text": [
      "1\n"
     ]
    }
   ],
   "source": [
    "print(D_array[0,0,1])"
   ]
  },
  {
   "cell_type": "code",
   "execution_count": 9,
   "id": "7c9b9632-ecf6-44dd-a7cd-c4cf3934bc23",
   "metadata": {},
   "outputs": [
    {
     "name": "stdout",
     "output_type": "stream",
     "text": [
      "21\n"
     ]
    }
   ],
   "source": [
    "print(D_array[1,2,1])"
   ]
  },
  {
   "cell_type": "code",
   "execution_count": 10,
   "id": "983bca58-beb0-4cb0-9599-4a2a9293d992",
   "metadata": {},
   "outputs": [
    {
     "data": {
      "text/plain": [
       "  C_CONTIGUOUS : True\n",
       "  F_CONTIGUOUS : False\n",
       "  OWNDATA : True\n",
       "  WRITEABLE : True\n",
       "  ALIGNED : True\n",
       "  WRITEBACKIFCOPY : False"
      ]
     },
     "execution_count": 10,
     "metadata": {},
     "output_type": "execute_result"
    }
   ],
   "source": [
    "arr = np.array([[1,2,3,4],[5,6,7,8]])\n",
    "arr.flags"
   ]
  },
  {
   "cell_type": "code",
   "execution_count": 11,
   "id": "cd01fe2c-9553-4a00-bd23-2b171b6e8c80",
   "metadata": {},
   "outputs": [
    {
     "data": {
      "text/plain": [
       "(2, 4)"
      ]
     },
     "execution_count": 11,
     "metadata": {},
     "output_type": "execute_result"
    }
   ],
   "source": [
    "arr.shape\n"
   ]
  },
  {
   "cell_type": "code",
   "execution_count": 12,
   "id": "a9adfb55-0e71-40ef-8ce6-64f62efdabe6",
   "metadata": {},
   "outputs": [
    {
     "data": {
      "text/plain": [
       "(16, 4)"
      ]
     },
     "execution_count": 12,
     "metadata": {},
     "output_type": "execute_result"
    }
   ],
   "source": [
    "arr.strides"
   ]
  },
  {
   "cell_type": "raw",
   "id": "68dcff98-7cd9-47ef-a22f-615887f5ea96",
   "metadata": {},
   "source": []
  },
  {
   "cell_type": "code",
   "execution_count": 13,
   "id": "4dfd730c-3f29-4e02-af82-44e7af549638",
   "metadata": {},
   "outputs": [
    {
     "data": {
      "text/plain": [
       "2"
      ]
     },
     "execution_count": 13,
     "metadata": {},
     "output_type": "execute_result"
    }
   ],
   "source": [
    "arr.ndim\n"
   ]
  },
  {
   "cell_type": "code",
   "execution_count": null,
   "id": "0a33037c-7f67-47f4-a82e-87d7ed49e681",
   "metadata": {},
   "outputs": [],
   "source": []
  },
  {
   "cell_type": "code",
   "execution_count": 14,
   "id": "b65f6872-e3fd-4fe2-9ab0-0a19bfffd197",
   "metadata": {},
   "outputs": [
    {
     "data": {
      "text/plain": [
       "<memory at 0x000001DCEA5AC1E0>"
      ]
     },
     "execution_count": 14,
     "metadata": {},
     "output_type": "execute_result"
    }
   ],
   "source": [
    "arr.data"
   ]
  },
  {
   "cell_type": "code",
   "execution_count": 15,
   "id": "69e9f5a3-fd3a-4b07-9941-3dc1313340e6",
   "metadata": {},
   "outputs": [
    {
     "data": {
      "text/plain": [
       "8"
      ]
     },
     "execution_count": 15,
     "metadata": {},
     "output_type": "execute_result"
    }
   ],
   "source": [
    "arr.size"
   ]
  },
  {
   "cell_type": "code",
   "execution_count": 17,
   "id": "2a160f5f-b51e-4a0c-b038-2c19c1f852e9",
   "metadata": {},
   "outputs": [
    {
     "data": {
      "text/plain": [
       "4"
      ]
     },
     "execution_count": 17,
     "metadata": {},
     "output_type": "execute_result"
    }
   ],
   "source": [
    "arr.itemsize"
   ]
  },
  {
   "cell_type": "code",
   "execution_count": 21,
   "id": "344d085b-5e80-4030-b472-1a57595316ce",
   "metadata": {},
   "outputs": [
    {
     "data": {
      "text/plain": [
       "array([[1, 2, 3, 4],\n",
       "       [5, 6, 7, 8]])"
      ]
     },
     "execution_count": 21,
     "metadata": {},
     "output_type": "execute_result"
    }
   ],
   "source": [
    "arr.real"
   ]
  },
  {
   "cell_type": "code",
   "execution_count": 18,
   "id": "5cba344d-8842-467f-993b-413123913b51",
   "metadata": {},
   "outputs": [],
   "source": [
    "arr.base\n"
   ]
  },
  {
   "cell_type": "code",
   "execution_count": 22,
   "id": "a715fd29-3c7d-480d-82b0-97b41c6d6abb",
   "metadata": {},
   "outputs": [
    {
     "data": {
      "text/plain": [
       "array([[0, 0, 0, 0],\n",
       "       [0, 0, 0, 0]])"
      ]
     },
     "execution_count": 22,
     "metadata": {},
     "output_type": "execute_result"
    }
   ],
   "source": [
    "arr.imag\n"
   ]
  },
  {
   "cell_type": "code",
   "execution_count": 6,
   "id": "411a3e1a-11d1-4ed2-a2b2-cd15946fcf01",
   "metadata": {},
   "outputs": [
    {
     "name": "stdout",
     "output_type": "stream",
     "text": [
      "[1.+0.j 2.+0.j 0.+3.j 5.+0.j]\n"
     ]
    }
   ],
   "source": [
    "import numpy as np\n",
    "array = np.array([1,2,3j,5])\n",
    "print(array)"
   ]
  },
  {
   "cell_type": "code",
   "execution_count": 10,
   "id": "e90d2b49-ffe3-46b6-ab8d-b1012e46139d",
   "metadata": {},
   "outputs": [
    {
     "data": {
      "text/plain": [
       "array([[1.+0.j, 5.+0.j],\n",
       "       [2.+0.j, 6.+0.j],\n",
       "       [0.+3.j, 7.+0.j],\n",
       "       [4.+0.j, 0.+8.j]])"
      ]
     },
     "execution_count": 10,
     "metadata": {},
     "output_type": "execute_result"
    }
   ],
   "source": [
    "arr = np.array([[1,2,3j,4],[5,6,7,8j]])\n",
    "arr.T"
   ]
  },
  {
   "cell_type": "code",
   "execution_count": 11,
   "id": "4c63f832-41e5-4c2c-bb0f-f8e9f38ece31",
   "metadata": {},
   "outputs": [
    {
     "data": {
      "text/plain": [
       "array([[1., 2., 0., 4.],\n",
       "       [5., 6., 7., 0.]])"
      ]
     },
     "execution_count": 11,
     "metadata": {},
     "output_type": "execute_result"
    }
   ],
   "source": [
    "arr.real"
   ]
  },
  {
   "cell_type": "code",
   "execution_count": 12,
   "id": "b38e3b83-1887-4abd-8902-6180566bda9e",
   "metadata": {},
   "outputs": [
    {
     "data": {
      "text/plain": [
       "128"
      ]
     },
     "execution_count": 12,
     "metadata": {},
     "output_type": "execute_result"
    }
   ],
   "source": [
    "arr.nbytes"
   ]
  },
  {
   "cell_type": "code",
   "execution_count": 13,
   "id": "ef22266e-f734-43bc-83e1-023494e9bc74",
   "metadata": {},
   "outputs": [
    {
     "data": {
      "text/plain": [
       "array([[0., 0., 3., 0.],\n",
       "       [0., 0., 0., 8.]])"
      ]
     },
     "execution_count": 13,
     "metadata": {},
     "output_type": "execute_result"
    }
   ],
   "source": [
    "arr.imag"
   ]
  },
  {
   "cell_type": "code",
   "execution_count": null,
   "id": "d780dcf3-730f-497c-a846-b86c24078850",
   "metadata": {},
   "outputs": [],
   "source": []
  }
 ],
 "metadata": {
  "kernelspec": {
   "display_name": "Python 3 (ipykernel)",
   "language": "python",
   "name": "python3"
  },
  "language_info": {
   "codemirror_mode": {
    "name": "ipython",
    "version": 3
   },
   "file_extension": ".py",
   "mimetype": "text/x-python",
   "name": "python",
   "nbconvert_exporter": "python",
   "pygments_lexer": "ipython3",
   "version": "3.11.7"
  }
 },
 "nbformat": 4,
 "nbformat_minor": 5
}
